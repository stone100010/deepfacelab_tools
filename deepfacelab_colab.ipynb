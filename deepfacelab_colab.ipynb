{
  "nbformat": 4,
  "nbformat_minor": 0,
  "metadata": {
    "colab": {
      "name": "deepfacelab.ipynb",
      "provenance": [],
      "collapsed_sections": []
    },
    "kernelspec": {
      "name": "python3",
      "display_name": "Python 3"
    },
    "language_info": {
      "name": "python"
    }
  },
  "cells": [
    {
      "cell_type": "code",
      "metadata": {
        "id": "_FPEEgyYfG4n",
        "colab": {
          "base_uri": "https://localhost:8080/"
        },
        "outputId": "5ae865be-ca4e-42cd-b234-f01e9654b232"
      },
      "source": [
        "!git clone --depth 1 https://github.com/nagadit/DeepFaceLab_Linux.git\n",
        "%cd DeepFaceLab_Linux/\n",
        "!git clone --depth 1 https://github.com/iperov/DeepFaceLab.git"
      ],
      "execution_count": 1,
      "outputs": [
        {
          "output_type": "stream",
          "text": [
            "Cloning into 'DeepFaceLab_Linux'...\n",
            "remote: Enumerating objects: 51, done.\u001b[K\n",
            "remote: Counting objects: 100% (51/51), done.\u001b[K\n",
            "remote: Compressing objects: 100% (22/22), done.\u001b[K\n",
            "remote: Total 51 (delta 29), reused 48 (delta 29), pack-reused 0\u001b[K\n",
            "Unpacking objects: 100% (51/51), done.\n",
            "/content/DeepFaceLab_Linux\n",
            "Cloning into 'DeepFaceLab'...\n",
            "remote: Enumerating objects: 247, done.\u001b[K\n",
            "remote: Counting objects: 100% (247/247), done.\u001b[K\n",
            "remote: Compressing objects: 100% (222/222), done.\u001b[K\n",
            "remote: Total 247 (delta 25), reused 139 (delta 16), pack-reused 0\u001b[K\n",
            "Receiving objects: 100% (247/247), 253.35 MiB | 28.93 MiB/s, done.\n",
            "Resolving deltas: 100% (25/25), done.\n",
            "Checking out files: 100% (211/211), done.\n"
          ],
          "name": "stdout"
        }
      ]
    },
    {
      "cell_type": "code",
      "metadata": {
        "colab": {
          "base_uri": "https://localhost:8080/"
        },
        "id": "w7tA867BhBDt",
        "outputId": "ae6b9593-aab9-4aaa-d567-0503e7112cd6"
      },
      "source": [
        "%ls\n",
        "%cd scripts/\n",
        "%cp /content/drive/MyDrive/models/env.sh ./\n",
        "!bash 1_clear_workspace.sh"
      ],
      "execution_count": 7,
      "outputs": [
        {
          "output_type": "stream",
          "text": [
            "1_clear_workspace.sh\n",
            "2_extract_image_from_data_src.sh\n",
            "3.1_denoise_data_dst_images.sh\n",
            "3_extract_image_from_data_dst.sh\n",
            "4.1_download_CelebA.sh\n",
            "4.1_download_FFHQ.sh\n",
            "4.1_download_Quick96.sh\n",
            "\u001b[0m\u001b[01;32m4.2_data_src_sort.sh\u001b[0m*\n",
            "\u001b[01;32m4.2_data_src_util_add_landmarks_debug_images.sh\u001b[0m*\n",
            "\u001b[01;32m4.2_data_src_util_faceset_enhance.sh\u001b[0m*\n",
            "\u001b[01;32m4.2_data_src_util_faceset_metadata_restore.sh\u001b[0m*\n",
            "\u001b[01;32m4.2_data_src_util_faceset_metadata_save.sh\u001b[0m*\n",
            "\u001b[01;32m4.2_data_src_util_faceset_pack.sh\u001b[0m*\n",
            "\u001b[01;32m4.2_data_src_util_faceset_unpack.sh\u001b[0m*\n",
            "\u001b[01;32m4.2_data_src_util_recover_original_filename.sh\u001b[0m*\n",
            "\u001b[01;32m4_data_src_extract_faces_MANUAL.sh\u001b[0m*\n",
            "\u001b[01;32m4_data_src_extract_faces_S3FD.sh\u001b[0m*\n",
            "\u001b[01;32m5.2_data_dst_sort.sh\u001b[0m*\n",
            "\u001b[01;32m5.2_data_dst_util_faceset_pack.sh\u001b[0m*\n",
            "\u001b[01;32m5.2_data_dst_util_faceset_unpack.sh\u001b[0m*\n",
            "\u001b[01;32m5.2_data_dst_util_recover_original_filename.sh\u001b[0m*\n",
            "\u001b[01;32m5_data_dst_extract_faces_MANUAL_RE-EXTRACT_DELETED_ALIGNED_DEBUG.sh\u001b[0m*\n",
            "\u001b[01;32m5_data_dst_extract_faces_MANUAL.sh\u001b[0m*\n",
            "\u001b[01;32m5_data_dst_extract_faces_S3FD_+_manual_fix.sh\u001b[0m*\n",
            "\u001b[01;32m5_data_dst_extract_faces_S3FD.sh\u001b[0m*\n",
            "5_XSeg_data_dst_mask_apply.sh\n",
            "5_XSeg_data_dst_mask_edit.sh\n",
            "5_XSeg_data_dst_mask_fetch.sh\n",
            "5_XSeg_data_dst_mask_remove.sh\n",
            "5_XSeg_data_dst_trained_mask_remove.sh\n",
            "5_XSeg_data_src_mask_apply.sh\n",
            "5_XSeg_data_src_mask_edit.sh\n",
            "5_XSeg_data_src_mask_fetch.sh\n",
            "5_XSeg_data_src_mask_remove.sh\n",
            "5_XSeg_data_src_trained_mask_remove.sh\n",
            "5_XSeg_train.sh\n",
            "\u001b[01;32m6_train_Quick96_no_preview.sh\u001b[0m*\n",
            "\u001b[01;32m6_train_Quick96.sh\u001b[0m*\n",
            "\u001b[01;32m6_train_SAEHD_no_preview.sh\u001b[0m*\n",
            "\u001b[01;32m6_train_SAEHD.sh\u001b[0m*\n",
            "\u001b[01;32m7_merge_Quick96.sh\u001b[0m*\n",
            "\u001b[01;32m7_merge_SAEHD.sh\u001b[0m*\n",
            "\u001b[01;32m8_merged_to_avi.sh\u001b[0m*\n",
            "\u001b[01;32m8_merged_to_mov_lossless.sh\u001b[0m*\n",
            "\u001b[01;32m8_merged_to_mp4_lossless.sh\u001b[0m*\n",
            "\u001b[01;32m8_merged_to_mp4.sh\u001b[0m*\n",
            "env.sh\n"
          ],
          "name": "stdout"
        }
      ]
    },
    {
      "cell_type": "code",
      "metadata": {
        "id": "ExCyKQ67lSPu",
        "colab": {
          "base_uri": "https://localhost:8080/"
        },
        "outputId": "47413b59-cd03-4c5d-a251-1c00dc11714a"
      },
      "source": [
        "# 此处查看是位于/content/DeepFaceLab_Linux/scripts/下面\n",
        "%ls"
      ],
      "execution_count": 8,
      "outputs": [
        {
          "output_type": "stream",
          "text": [
            "1_clear_workspace.sh\n",
            "2_extract_image_from_data_src.sh\n",
            "3.1_denoise_data_dst_images.sh\n",
            "3_extract_image_from_data_dst.sh\n",
            "4.1_download_CelebA.sh\n",
            "4.1_download_FFHQ.sh\n",
            "4.1_download_Quick96.sh\n",
            "\u001b[0m\u001b[01;32m4.2_data_src_sort.sh\u001b[0m*\n",
            "\u001b[01;32m4.2_data_src_util_add_landmarks_debug_images.sh\u001b[0m*\n",
            "\u001b[01;32m4.2_data_src_util_faceset_enhance.sh\u001b[0m*\n",
            "\u001b[01;32m4.2_data_src_util_faceset_metadata_restore.sh\u001b[0m*\n",
            "\u001b[01;32m4.2_data_src_util_faceset_metadata_save.sh\u001b[0m*\n",
            "\u001b[01;32m4.2_data_src_util_faceset_pack.sh\u001b[0m*\n",
            "\u001b[01;32m4.2_data_src_util_faceset_unpack.sh\u001b[0m*\n",
            "\u001b[01;32m4.2_data_src_util_recover_original_filename.sh\u001b[0m*\n",
            "\u001b[01;32m4_data_src_extract_faces_MANUAL.sh\u001b[0m*\n",
            "\u001b[01;32m4_data_src_extract_faces_S3FD.sh\u001b[0m*\n",
            "\u001b[01;32m5.2_data_dst_sort.sh\u001b[0m*\n",
            "\u001b[01;32m5.2_data_dst_util_faceset_pack.sh\u001b[0m*\n",
            "\u001b[01;32m5.2_data_dst_util_faceset_unpack.sh\u001b[0m*\n",
            "\u001b[01;32m5.2_data_dst_util_recover_original_filename.sh\u001b[0m*\n",
            "\u001b[01;32m5_data_dst_extract_faces_MANUAL_RE-EXTRACT_DELETED_ALIGNED_DEBUG.sh\u001b[0m*\n",
            "\u001b[01;32m5_data_dst_extract_faces_MANUAL.sh\u001b[0m*\n",
            "\u001b[01;32m5_data_dst_extract_faces_S3FD_+_manual_fix.sh\u001b[0m*\n",
            "\u001b[01;32m5_data_dst_extract_faces_S3FD.sh\u001b[0m*\n",
            "5_XSeg_data_dst_mask_apply.sh\n",
            "5_XSeg_data_dst_mask_edit.sh\n",
            "5_XSeg_data_dst_mask_fetch.sh\n",
            "5_XSeg_data_dst_mask_remove.sh\n",
            "5_XSeg_data_dst_trained_mask_remove.sh\n",
            "5_XSeg_data_src_mask_apply.sh\n",
            "5_XSeg_data_src_mask_edit.sh\n",
            "5_XSeg_data_src_mask_fetch.sh\n",
            "5_XSeg_data_src_mask_remove.sh\n",
            "5_XSeg_data_src_trained_mask_remove.sh\n",
            "5_XSeg_train.sh\n",
            "\u001b[01;32m6_train_Quick96_no_preview.sh\u001b[0m*\n",
            "\u001b[01;32m6_train_Quick96.sh\u001b[0m*\n",
            "\u001b[01;32m6_train_SAEHD_no_preview.sh\u001b[0m*\n",
            "\u001b[01;32m6_train_SAEHD.sh\u001b[0m*\n",
            "\u001b[01;32m7_merge_Quick96.sh\u001b[0m*\n",
            "\u001b[01;32m7_merge_SAEHD.sh\u001b[0m*\n",
            "\u001b[01;32m8_merged_to_avi.sh\u001b[0m*\n",
            "\u001b[01;32m8_merged_to_mov_lossless.sh\u001b[0m*\n",
            "\u001b[01;32m8_merged_to_mp4_lossless.sh\u001b[0m*\n",
            "\u001b[01;32m8_merged_to_mp4.sh\u001b[0m*\n",
            "env.sh\n"
          ],
          "name": "stdout"
        }
      ]
    },
    {
      "cell_type": "code",
      "metadata": {
        "id": "9SAK9B_mmJBZ",
        "colab": {
          "base_uri": "https://localhost:8080/"
        },
        "outputId": "7d88d06c-2a09-4d2b-a05d-eea42964b78f"
      },
      "source": [
        "# 现在开始切换目录至/content/DeepFaceLab_Linux/deepfacelab_tools/下面，进行基础数据处理：视频拆帧等\n",
        "%cd /content/DeepFaceLab_Linux/\n",
        "# 加载数据处理模块代码工具\n",
        "!git clone https://github.com/stone100010/deepfacelab_tools.git\n",
        "%cd deepfacelab_tools/"
      ],
      "execution_count": 9,
      "outputs": [
        {
          "output_type": "stream",
          "text": [
            "/content/DeepFaceLab_Linux\n",
            "Cloning into 'deepfacelab_tools'...\n",
            "remote: Enumerating objects: 15, done.\u001b[K\n",
            "remote: Counting objects: 100% (15/15), done.\u001b[K\n",
            "remote: Compressing objects: 100% (14/14), done.\u001b[K\n",
            "remote: Total 15 (delta 3), reused 0 (delta 0), pack-reused 0\u001b[K\n",
            "Unpacking objects: 100% (15/15), done.\n",
            "/content/DeepFaceLab_Linux/deepfacelab_tools\n"
          ],
          "name": "stdout"
        }
      ]
    },
    {
      "cell_type": "code",
      "metadata": {
        "id": "tP0YMpewrMHp"
      },
      "source": [
        "# 从GoogleDrive拷贝视频\n",
        "%cp -r /content/drive/MyDrive/datasets/video_list ./"
      ],
      "execution_count": 10,
      "outputs": []
    },
    {
      "cell_type": "code",
      "metadata": {
        "id": "IA6HCDjpeJIv"
      },
      "source": [
        "# 确认连接GoogleDrive\n",
        "# 参数说明使用mov2img.py -h\n",
        "!python mov2img.py --inputpath video_list --savepath data_src --filetype mp4 --imgcutnum 4"
      ],
      "execution_count": null,
      "outputs": []
    }
  ]
}